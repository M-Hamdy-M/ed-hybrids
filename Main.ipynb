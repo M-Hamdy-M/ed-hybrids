{
 "cells": [
  {
   "cell_type": "code",
   "execution_count": null,
   "metadata": {},
   "outputs": [],
   "source": [
    "from tuning.bo.optimizables import optimizable_models\n",
    "from analysis_utils import highlight_max\n"
   ]
  },
  {
   "cell_type": "markdown",
   "metadata": {},
   "source": [
    "## Optimization"
   ]
  },
  {
   "cell_type": "code",
   "execution_count": null,
   "metadata": {},
   "outputs": [],
   "source": [
    "from tuning.bo.core.tune import tune\n",
    "import numpy as np\n",
    "from collections import defaultdict\n",
    "import time\n",
    "import os\n",
    "import torch.multiprocessing as mp\n",
    "import itertools\n",
    "import pandas as pd\n",
    "from tqdm.notebook import tqdm"
   ]
  },
  {
   "cell_type": "code",
   "execution_count": null,
   "metadata": {},
   "outputs": [],
   "source": [
    "optimizables = [    \n",
    "    optimizable_models.EdRVFL(name=\"edRVFL\", input_direct_link=True, n_layers=20, prune_percentage=None),\n",
    "\n",
    "    optimizable_models.MLP(name=\"MLP\", loss=\"mse\", use_drop_out=True), \n",
    "    optimizable_models.MOMLP(name=\"MO-MLP\", loss=\"mse\", use_drop_out=True), \n",
    "\n",
    "    optimizable_models.MOMLP(name=\"MO-MLP (CE)\", loss=\"ce\", use_drop_out=True), \n",
    "    optimizable_models.MOMLP(name=\"MO-MLP (Seq, Scl)\", loss=\"mse\", use_drop_out=True),\n",
    "    optimizable_models.MOMLP(name=\"MO-MLP (Seq, Vec)\", loss=\"mse\", use_drop_out=True),\n",
    "    \n",
    "    optimizable_models.MLP(name=\"SNN\", loss=\"mse\", use_selu=True), \n",
    "    optimizable_models.MOMLP(name=\"MO-SNN\", loss=\"mse\", use_selu=True), \n",
    "    \n",
    "    optimizable_models.SS(name=\"edAS\", input_direct_link=True, sampling_method=\"exp_loss\"),\n",
    "    optimizable_models.SS(name=\"edAS (Loss)\", input_direct_link=True, sampling_method=\"loss\"),\n",
    "    optimizable_models.SS(name=\"edAS (Acc.)\", input_direct_link=True, sampling_method=\"acc\"),\n",
    "    optimizable_models.SS(name=\"edAS (CE)\", input_direct_link=True, sampling_method=\"exp_loss\", loss=\"ce\"),\n",
    "    optimizable_models.SS(name=\"edAS (Exp. Acc.)\", input_direct_link=True),\n",
    "]\n",
    "datasets = [\n",
    "    'abalone', \n",
    "    'plant-shape',\n",
    "    'arrhythmia', \n",
    "    'bank', \n",
    "    'breast-cancer-wisc-prog',\n",
    "    'breast-tissue',\n",
    "    'cardiotocography-10clases',\n",
    "    'cardiotocography-3clases', \n",
    "    'chess-krvkp',\n",
    "    'congressional-voting',\n",
    "    'conn-bench-vowel-deterding',\n",
    "    'contrac', \n",
    "    'hill-valley', \n",
    "    'ionosphere',\n",
    "    'iris', \n",
    "    'musk-2', \n",
    "    'oocytes_merluccius_nucleus_4d',\n",
    "    'oocytes_merluccius_states_2f', \n",
    "    'oocytes_trisopterus_states_5b',\n",
    "    'parkinsons', \n",
    "    'ringnorm', \n",
    "    'seeds',\n",
    "    'spambase',\n",
    "    'statlog-image',\n",
    "    'statlog-landsat', \n",
    "    'synthetic-control',\n",
    "    'twonorm',\n",
    "    'vertebral-column-2clases',\n",
    "    'vertebral-column-3clases',\n",
    "    'wall-following', \n",
    "    'waveform', \n",
    "    'waveform-noise', \n",
    "    'wine-quality-white',\n",
    "]"
   ]
  },
  {
   "cell_type": "code",
   "execution_count": null,
   "metadata": {},
   "outputs": [],
   "source": [
    "n_workers = 5\n",
    "n_trials = 200\n",
    "\n",
    "save_id = \"PR0\"\n",
    "\n",
    "force_tune = False\n",
    "seed = 42\n",
    "evaluation_reps = 10\n",
    "\n",
    "mp.set_start_method(\"spawn\", True)"
   ]
  },
  {
   "cell_type": "code",
   "execution_count": null,
   "metadata": {},
   "outputs": [],
   "source": [
    "pool = mp.Pool(processes=n_workers)\n",
    "responses = defaultdict(lambda: defaultdict(dict))\n",
    "\n",
    "for dataset, optimizable_dict in itertools.product(datasets, optimizables):\n",
    "    if type(optimizable_dict) is dict:\n",
    "        optimizable = optimizable_dict[\"optimizable\"]\n",
    "        id = optimizable_dict[\"id\"]\n",
    "    else:\n",
    "        optimizable = optimizable_dict\n",
    "        id = save_id\n",
    "    responses[dataset][optimizable.name] = pool.apply_async(\n",
    "        tune, \n",
    "        args=(\n",
    "            optimizable,\n",
    "            dataset, \n",
    "            n_trials, \n",
    "            id,\n",
    "            None,\n",
    "            force_tune,\n",
    "            seed,\n",
    "            evaluation_reps,\n",
    "            False,\n",
    "        )\n",
    "      \n",
    "    )\n",
    "\n",
    "pbar = tqdm(total=len(datasets) * len(optimizables))\n",
    "ctr = 0\n",
    "metrics = defaultdict(lambda: defaultdict(dict))\n",
    "done =  np.zeros((len(datasets), len(optimizables)), dtype=bool)\n",
    "while not np.all(done):\n",
    "    for i, dataset in enumerate(datasets):\n",
    "        for j, optimizable_dict in enumerate(optimizables):\n",
    "            if type(optimizable_dict) is dict:\n",
    "                optimizable = optimizable_dict[\"optimizable\"]\n",
    "            else:\n",
    "                optimizable = optimizable_dict\n",
    "            if responses[dataset][optimizable.name].ready() and not done[i][j]:\n",
    "                metrics[dataset][optimizable.name] = responses[dataset][optimizable.name].get()\n",
    "                print(\"received: \", i, j, dataset, optimizable.name, np.array(metrics[dataset][optimizable.name][\"metrics\"]).mean(0)[8])\n",
    "                done[i][j] = True\n",
    "                ctr += 1\n",
    "                pbar.update(ctr - pbar.n)\n",
    "        time.sleep(0.1)"
   ]
  },
  {
   "cell_type": "code",
   "execution_count": null,
   "metadata": {},
   "outputs": [],
   "source": [
    "pdidx = pd.IndexSlice\n",
    "reps = 4 * evaluation_reps\n",
    "metrics_df = pd.DataFrame(index=pd.MultiIndex.from_product([np.arange(reps), datasets], names=[\"rep\", \"dataset\"]), columns=pd.MultiIndex.from_product([[optimizable.name for optimizable in optimizables], [\"train_acc\",  \"train_f1\", \"train_precision\",  \"train_recall\",  \"val_acc\",  \"val_f1\", \"val_precision\",  \"val_recall\" , \"test_acc\", \"test_f1\", \"test_precision\", \"test_recall\", \"time\"]], names=[\"model\", \"metric\"]), dtype=float)\n",
    "for dataset, optimizable in itertools.product(datasets, optimizables):\n",
    "    try:\n",
    "        metrics_df.loc[pdidx[:reps, dataset], pdidx[optimizable.name, [\"train_acc\",  \"train_f1\", \"train_precision\",  \"train_recall\",  \"val_acc\",  \"val_f1\", \"val_precision\",  \"val_recall\" , \"test_acc\", \"test_f1\", \"test_precision\", \"test_recall\"]]] = metrics[dataset][optimizable.name][\"metrics\"]\n",
    "        metrics_df.loc[pdidx[:reps, dataset], pdidx[optimizable.name, \"time\"]] = metrics[dataset][optimizable.name][\"train_time\"]\n",
    "    except Exception as e:\n",
    "        print(dataset)\n",
    "        raise e\n",
    "tmp = metrics_df.loc[:40, pdidx[:, \"test_acc\"]].unstack(1).droplevel([1], 1).mean(0).unstack(0)\n",
    "display((tmp * 100).round(2).style.apply(highlight_max, axis=1))\n",
    "tmp.rank(axis=1, ascending=False).mean(0).sort_values()"
   ]
  },
  {
   "cell_type": "markdown",
   "metadata": {},
   "source": [
    "## Save Experiment Results"
   ]
  },
  {
   "cell_type": "code",
   "execution_count": null,
   "metadata": {},
   "outputs": [],
   "source": [
    "experiment_name = \"eval_stats\"\n",
    "file_name = f\"./results/{experiment_name}.csv\"\n",
    "if os.path.exists(file_name):\n",
    "    raise Exception(\"There already exist an experiment with this name!\")\n",
    "metrics_df.to_csv(file_name)\n",
    "print(f\"Saved as: {file_name}\")"
   ]
  }
 ],
 "metadata": {
  "kernelspec": {
   "display_name": "DL",
   "language": "python",
   "name": "python3"
  },
  "language_info": {
   "codemirror_mode": {
    "name": "ipython",
    "version": 3
   },
   "file_extension": ".py",
   "mimetype": "text/x-python",
   "name": "python",
   "nbconvert_exporter": "python",
   "pygments_lexer": "ipython3",
   "version": "3.11.9"
  }
 },
 "nbformat": 4,
 "nbformat_minor": 2
}
